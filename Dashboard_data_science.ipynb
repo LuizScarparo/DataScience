{
  "nbformat": 4,
  "nbformat_minor": 0,
  "metadata": {
    "colab": {
      "provenance": [],
      "authorship_tag": "ABX9TyO05MytzdCmM/JthoAeND6T",
      "include_colab_link": true
    },
    "kernelspec": {
      "name": "python3",
      "display_name": "Python 3"
    },
    "language_info": {
      "name": "python"
    }
  },
  "cells": [
    {
      "cell_type": "markdown",
      "metadata": {
        "id": "view-in-github",
        "colab_type": "text"
      },
      "source": [
        "<a href=\"https://colab.research.google.com/github/LuizScarparo/DataScience/blob/main/Dashboard_data_science.ipynb\" target=\"_parent\"><img src=\"https://colab.research.google.com/assets/colab-badge.svg\" alt=\"Open In Colab\"/></a>"
      ]
    },
    {
      "cell_type": "code",
      "source": [
        "!apt-get update -qq\n",
        "!apt-get install -qq pandoc texlive-xetex\n"
      ],
      "metadata": {
        "colab": {
          "base_uri": "https://localhost:8080/"
        },
        "id": "uSVIWXo1_WmO",
        "outputId": "f2bd2457-7a88-4bb0-b902-8c4eb08f05e1"
      },
      "execution_count": 35,
      "outputs": [
        {
          "output_type": "stream",
          "name": "stdout",
          "text": [
            "W: Skipping acquire of configured file 'main/source/Sources' as repository 'https://r2u.stat.illinois.edu/ubuntu jammy InRelease' does not seem to provide it (sources.list entry misspelt?)\n"
          ]
        }
      ]
    },
    {
      "cell_type": "code",
      "source": [
        "import pandas as pd\n",
        "import matplotlib.pyplot as plt\n",
        "import numpy as np\n",
        "\n",
        "df = pd.read_csv('/content/database.csv', sep=',', encoding='utf-8', dtype={'Idade': str})\n",
        "\n",
        "df['Anos'] = (\n",
        "    df['Idade']\n",
        "      .astype(str)\n",
        "      .str.split(pat='-', n=1).str[0]\n",
        ")\n",
        "df['Anos'] = pd.to_numeric(df['Anos'], errors='coerce')\n",
        "\n",
        "# converte CrtsA e Cmp%\n",
        "df['CrtsA'] = pd.to_numeric(df['CrtsA'], errors='coerce')\n",
        "df['Cmp%']  = pd.to_numeric(df['Cmp%'].str.replace(',','.'), errors='coerce')\n",
        "\n",
        "# calcula Gols_per90\n",
        "df['Gols_per90'] = df['Gols'] / (df['Min.'] / 90)\n",
        "\n",
        "# 2.3 Distribuição de Nacionalidades\n",
        "counts = df['Nação'].value_counts()\n",
        "plt.figure(figsize=(6,6))\n",
        "plt.pie(counts, labels=counts.index, autopct='%1.1f%%', startangle=90)\n",
        "plt.axis('equal')\n",
        "plt.title('Distribuição de Nacionalidades')\n",
        "plt.savefig('nacionalidades.png', bbox_inches='tight')\n",
        "plt.close()\n",
        "\n",
        "# 2.4 Distribuição de Posições\n",
        "counts = df['Pos.'].value_counts()\n",
        "perc   = counts / counts.sum() * 100\n",
        "major  = counts[perc >= 2].copy()\n",
        "others = counts[perc < 2].sum()\n",
        "if others > 0:\n",
        "    major['Outros'] = others\n",
        "plt.figure(figsize=(6,6))\n",
        "plt.pie(major, labels=major.index, autopct='%1.1f%%', startangle=90)\n",
        "plt.axis('equal')\n",
        "plt.title('Distribuição de Posições')\n",
        "plt.savefig('posicoes.png', bbox_inches='tight')\n",
        "plt.close()\n",
        "\n",
        "# 2.7 Idade vs. Cartões Amarelos\n",
        "data_ic = df.dropna(subset=['Anos','CrtsA'])\n",
        "m_ic, b_ic = np.polyfit(data_ic['Anos'], data_ic['CrtsA'], 1)\n",
        "plt.figure(figsize=(6,4))\n",
        "plt.scatter(data_ic['Anos'], data_ic['CrtsA'], alpha=0.6, s=30)\n",
        "plt.plot(data_ic['Anos'], m_ic*data_ic['Anos']+b_ic, '--', lw=2, color='red')\n",
        "plt.title('Idade vs. Cartões Amarelos')\n",
        "plt.xlabel('Anos'); plt.ylabel('Cartões Amarelos')\n",
        "plt.savefig('idade_cartoes.png', bbox_inches='tight')\n",
        "plt.close()\n",
        "\n",
        "# 2.8 Top-10 Artilheiros\n",
        "top10 = df.groupby('Jogador')['Gols'].sum().nlargest(10)\n",
        "plt.figure(figsize=(8,6))\n",
        "(top10[::-1]).plot(kind='barh')\n",
        "plt.title('Top 10 Artilheiros')\n",
        "plt.xlabel('Total de Gols'); plt.ylabel('')\n",
        "plt.savefig('top10.png', bbox_inches='tight')\n",
        "plt.close()\n",
        "\n",
        "# 2.9 Heatmap de Correlação\n",
        "cols = ['Gols','Assis.','xG','xAG','Cmp%','PrgP','Conduções']\n",
        "corr = df[cols].dropna().corr()\n",
        "plt.figure(figsize=(6,6))\n",
        "plt.imshow(corr, cmap='coolwarm', vmin=-1, vmax=1)\n",
        "plt.colorbar()\n",
        "plt.xticks(range(len(cols)), cols, rotation=45, ha='right')\n",
        "plt.yticks(range(len(cols)), cols)\n",
        "plt.title('Heatmap de Correlação')\n",
        "plt.savefig('heatmap.png', bbox_inches='tight')\n",
        "plt.close()\n",
        "\n",
        "# 2.10 Eficiência de Gols por 90 Minutos\n",
        "data_eff = df.replace([np.inf, -np.inf], np.nan).dropna(subset=['Min.','Gols_per90'])\n",
        "m_eff, b_eff = np.polyfit(data_eff['Min.'], data_eff['Gols_per90'], 1)\n",
        "plt.figure(figsize=(6,4))\n",
        "plt.scatter(data_eff['Min.'], data_eff['Gols_per90'], alpha=0.6, s=30)\n",
        "plt.plot([0, data_eff['Min.'].max()],\n",
        "         [b_eff, m_eff*data_eff['Min.'].max()+b_eff],\n",
        "         '--', lw=2, color='green')\n",
        "plt.title('Gols/90 min vs Minutos Jogados')\n",
        "plt.xlabel('Minutos Jogados'); plt.ylabel('Gols/90 min')\n",
        "plt.savefig('eficiencia.png', bbox_inches='tight')\n",
        "plt.close()\n"
      ],
      "metadata": {
        "id": "K3QCfnrq_ejt"
      },
      "execution_count": 37,
      "outputs": []
    },
    {
      "cell_type": "code",
      "source": [
        "# Cell 3: Montagem Dinâmica do `report.md` (versão organizada)\n",
        "\n",
        "with open('report.md', 'w') as f:\n",
        "    # Cabeçalho\n",
        "    f.write(\"# Relatório Completo de Estatísticas de Jogadores\\n\\n\")\n",
        "    f.write(\"**Nomes:** Luiz Henrique Scarparo, Emanuel Mariuzza\\n\\n\")\n",
        "\n",
        "    # Tema\n",
        "    f.write(\"## 1. Tema do Projeto\\n\")\n",
        "    f.write(\"Análise exploratória de estatísticas de futebol brasileiro usando Python \"\n",
        "            \"(pandas, matplotlib, seaborn, plotly) e construção de um dashboard interativo com Dash.\\n\\n\")\n",
        "\n",
        "    # Repositório\n",
        "    f.write(\"## 2. Repositório no GitHub\\n\")\n",
        "    f.write(\"[https://github.com/LuizScarparo/DataScience](https://github.com/LuizScarparo/DataScience)\\n\\n\")\n",
        "\n",
        "    # Dataset\n",
        "    f.write(\"## 3. Dataset Utilizado\\n\")\n",
        "    f.write(\"- **Origem:** `/content/database.csv`\\n\")\n",
        "    f.write(\"- **Descrição:** Estatísticas individuais dos jogadores do campeonato brasileiro de 2015\\n\")\n",
        "    f.write(\"- **Fonte dos dados:** Kaggle (eduardopalmieri/brasileiro-player-stats-2024)\\n\\n\")\n",
        "    f.write(\"### 3.1 Variáveis principais\\n\")\n",
        "    f.write(\"| Coluna       | Descrição                                          |\\n\")\n",
        "    f.write(\"|:------------:|:--------------------------------------------------|\\n\")\n",
        "    f.write(\"| Jogador      | Nome completo do atleta                            |\\n\")\n",
        "    f.write(\"| Time         | Clube ou seleção                                   |\\n\")\n",
        "    f.write(\"| Nação        | Nacionalidade                                      |\\n\")\n",
        "    f.write(\"| Pos.         | Posição (GK, DF, MF, FW, etc.)                     |\\n\")\n",
        "    f.write(\"| Min.         | Minutos jogados na temporada                       |\\n\")\n",
        "    f.write(\"| Gols         | Total de gols marcados                             |\\n\")\n",
        "    f.write(\"| Assis.       | Total de assistências                              |\\n\")\n",
        "    f.write(\"| Cmp%         | Percentual de passes completados                   |\\n\")\n",
        "    f.write(\"| xG           | Expected Goals (gols esperados)                    |\\n\")\n",
        "    f.write(\"| xAG          | Expected Assists (assistências esperadas)          |\\n\\n\")\n",
        "\n",
        "    # Modelos e Métodos\n",
        "    f.write(\"## 4. Modelos e Métodos\\n\")\n",
        "    f.write(\"- **Regressão Linear** (numpy.polyfit) para identificar tendências em:\\n\")\n",
        "    f.write(\"  1. Minutos jogados × Gols por 90 minutos\\n\")\n",
        "    f.write(\"  2. Idade (Anos) × Cartões Amarelos\\n\")\n",
        "    f.write(\"- **Visualizações**:\\n\")\n",
        "    f.write(\"  - Gráficos de pizza (nationalities e posições)\\n\")\n",
        "    f.write(\"  - Scatter plots com linha de tendência\\n\")\n",
        "    f.write(\"  - Heatmap de correlação entre métricas avançadas\\n\\n\")\n",
        "\n",
        "    # Resultados\n",
        "    f.write(\"## 5. Resultados Obtidos\\n\")\n",
        "    f.write(\"### 5.1 Top 10 Artilheiros\\n\")\n",
        "\n",
        "# 5.1 Lista dinâmica de artilheiros\n",
        "import pandas as pd\n",
        "df = pd.read_csv('/content/database.csv', sep=',', encoding='utf-8', dtype={'Idade': str})\n",
        "top10 = df.groupby('Jogador')['Gols'].sum().nlargest(10)\n",
        "with open('report.md', 'a') as f:\n",
        "    for idx, (jog, gols) in enumerate(top10.items(), 1):\n",
        "        f.write(f\"{idx}. **{jog}**: {gols} gols\\n\")\n",
        "    f.write(\"\\n\")\n",
        "\n",
        "# 5.2 Gráficos\n",
        "sections = [\n",
        "    (\"Distribuição de Nacionalidades\", \"nacionalidades.png\"),\n",
        "    (\"Distribuição de Posições\",       \"posicoes.png\"),\n",
        "    (\"Eficiência de Gols por 90 Minutos\", \"eficiencia.png\"),\n",
        "    (\"Heatmap de Correlação\",          \"heatmap.png\"),\n",
        "    (\"Idade vs. Cartões Amarelos\",     \"idade_cartoes.png\"),\n",
        "]\n",
        "with open('report.md', 'a') as f:\n",
        "    f.write(\"### 5.3 Visualizações\\n\\n\")\n",
        "    for title, img in sections:\n",
        "        f.write(f\"#### {title}\\n\")\n",
        "        f.write(f\"![{title}]({img})\\n\\n\")\n",
        "\n",
        "    # Resumo dos Resultados\n",
        "    f.write(\"## 6. Resumo dos Resultados\\n\")\n",
        "    f.write(\"Em síntese, a análise revelou:\\n\")\n",
        "    f.write(\"- **Nacionalidades:** Predomínio de brasileiros (>60%), com argentinos e europeus em seguida (cada <10%).\\n\")\n",
        "    f.write(\"- **Posições:** Defensores e meio-campistas somam ~70%; alas, atacantes e goleiros abaixo de 2% agrupados como \\\"Outros\\\".\\n\")\n",
        "    f.write(\"- **Assistências vs. Posições:** Meio-campistas têm maior mediana de assistências.\\n\")\n",
        "    f.write(\"- **Gols vs. Posições:** Atacantes lideram na mediana de gols.\\n\")\n",
        "    f.write(\"- **Eficiência de Gols:** Tendência positiva leve entre minutos jogados e gols/90 min.\\n\")\n",
        "    f.write(\"- **Correlações Avançadas:** Forte associação entre Gols↔xG e Assistências↔xAG.\\n\\n\")\n",
        "\n",
        "    # Conclusões\n",
        "    f.write(\"## 7. Conclusões\\n\")\n",
        "    f.write(\"Este relatório apresentou uma visão abrangente das estatísticas individuais: \"\n",
        "            \"identificou padrões de performance, comportamento disciplinar e a eficácia ofensiva dos jogadores. \"\n",
        "            \"O dashboard facilita a exploração interativa destes insights.\\n\")\n",
        "\n"
      ],
      "metadata": {
        "id": "fgJg8IpdApVd"
      },
      "execution_count": 53,
      "outputs": []
    },
    {
      "cell_type": "code",
      "source": [
        "# converte o Markdown em PDF\n",
        "!pandoc report.md \\\n",
        "  --from markdown+yaml_metadata_block \\\n",
        "  --pdf-engine=xelatex \\\n",
        "  -V geometry:margin=1in \\\n",
        "  -o report.pdf\n",
        "\n",
        "# baixa o PDF\n",
        "from google.colab import files\n",
        "files.download('report.pdf')\n"
      ],
      "metadata": {
        "colab": {
          "base_uri": "https://localhost:8080/",
          "height": 52
        },
        "id": "3CiVCSxKAsmm",
        "outputId": "8130f3fc-891d-47d0-eaa5-cc14de789cb4"
      },
      "execution_count": 54,
      "outputs": [
        {
          "output_type": "stream",
          "name": "stdout",
          "text": [
            "[WARNING] Missing character: There is no ↔ (U+2194) (U+2194) in font [lmroman10-regular]:mapping=t\n",
            "[WARNING] Missing character: There is no ↔ (U+2194) (U+2194) in font [lmroman10-regular]:mapping=t\n"
          ]
        },
        {
          "output_type": "display_data",
          "data": {
            "text/plain": [
              "<IPython.core.display.Javascript object>"
            ],
            "application/javascript": [
              "\n",
              "    async function download(id, filename, size) {\n",
              "      if (!google.colab.kernel.accessAllowed) {\n",
              "        return;\n",
              "      }\n",
              "      const div = document.createElement('div');\n",
              "      const label = document.createElement('label');\n",
              "      label.textContent = `Downloading \"${filename}\": `;\n",
              "      div.appendChild(label);\n",
              "      const progress = document.createElement('progress');\n",
              "      progress.max = size;\n",
              "      div.appendChild(progress);\n",
              "      document.body.appendChild(div);\n",
              "\n",
              "      const buffers = [];\n",
              "      let downloaded = 0;\n",
              "\n",
              "      const channel = await google.colab.kernel.comms.open(id);\n",
              "      // Send a message to notify the kernel that we're ready.\n",
              "      channel.send({})\n",
              "\n",
              "      for await (const message of channel.messages) {\n",
              "        // Send a message to notify the kernel that we're ready.\n",
              "        channel.send({})\n",
              "        if (message.buffers) {\n",
              "          for (const buffer of message.buffers) {\n",
              "            buffers.push(buffer);\n",
              "            downloaded += buffer.byteLength;\n",
              "            progress.value = downloaded;\n",
              "          }\n",
              "        }\n",
              "      }\n",
              "      const blob = new Blob(buffers, {type: 'application/binary'});\n",
              "      const a = document.createElement('a');\n",
              "      a.href = window.URL.createObjectURL(blob);\n",
              "      a.download = filename;\n",
              "      div.appendChild(a);\n",
              "      a.click();\n",
              "      div.remove();\n",
              "    }\n",
              "  "
            ]
          },
          "metadata": {}
        },
        {
          "output_type": "display_data",
          "data": {
            "text/plain": [
              "<IPython.core.display.Javascript object>"
            ],
            "application/javascript": [
              "download(\"download_eec8ebab-d5c2-40d8-85c1-e9bda186feab\", \"report.pdf\", 184435)"
            ]
          },
          "metadata": {}
        }
      ]
    }
  ]
}